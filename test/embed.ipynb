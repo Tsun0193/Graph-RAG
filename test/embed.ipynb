{
 "cells": [
  {
   "cell_type": "code",
   "execution_count": null,
   "metadata": {},
   "outputs": [],
   "source": [
    "import os\n",
    "import logging\n",
    "import sys\n",
    "import nest_asyncio\n",
    "import json\n",
    "import torch\n",
    "\n",
    "import numpy as np\n",
    "from typing import List, Any\n",
    "from llama_index.core.embeddings import BaseEmbedding\n",
    "\n",
    "from dotenv import load_dotenv\n",
    "from llama_index.llms.openai import OpenAI\n",
    "from llama_index.core import (\n",
    "    Settings,\n",
    "    Document, get_response_synthesizer,\n",
    "    KnowledgeGraphIndex, PropertyGraphIndex,\n",
    "    StorageContext\n",
    ")\n",
    "from llama_index.core.node_parser import SentenceSplitter\n",
    "from llama_index.graph_stores.neo4j import Neo4jGraphStore"
   ]
  },
  {
   "cell_type": "code",
   "execution_count": null,
   "metadata": {},
   "outputs": [],
   "source": [
    "from sentence_transformers import SentenceTransformer\n",
    "\n",
    "model = SentenceTransformer(\"Alibaba-NLP/gte-large-en-v1.5\", trust_remote_code=True, model_kwargs={\"torch_dtype\":\"bfloat16\"})"
   ]
  },
  {
   "cell_type": "code",
   "execution_count": null,
   "metadata": {},
   "outputs": [],
   "source": [
    "# device = \"cuda\" if torch.cuda.is_available() else \"cpu\"\n",
    "# model = model.to(device)\n",
    "# device"
   ]
  },
  {
   "cell_type": "code",
   "execution_count": null,
   "metadata": {},
   "outputs": [],
   "source": [
    "data = []\n",
    "with open('../core/data/annotations.jsonl', 'r') as f:\n",
    "    for line in f:\n",
    "        line = json.loads(line)\n",
    "        for doc in line['documents']:\n",
    "            data.append(doc[\"text\"])\n",
    "            \n",
    "data = data[:1000]"
   ]
  },
  {
   "cell_type": "code",
   "execution_count": null,
   "metadata": {},
   "outputs": [],
   "source": [
    "embeddings = model.encode(data, batch_size=32, show_progress_bar=True)\n",
    "type(embeddings)"
   ]
  },
  {
   "cell_type": "code",
   "execution_count": null,
   "metadata": {},
   "outputs": [],
   "source": [
    "embeddings = embeddings.tolist()\n",
    "len(embeddings)"
   ]
  },
  {
   "cell_type": "code",
   "execution_count": null,
   "metadata": {},
   "outputs": [],
   "source": [
    "def get_embeddings(text: List[str],\n",
    "                   model: str,\n",
    "                   **kwargs) -> List:\n",
    "    \"\"\"\n",
    "    Get embeddings for a given text using a local pre-trained model.\n",
    "    \"\"\"\n",
    "    _model = SentenceTransformer(model, trust_remote_code=True, model_kwargs={\"torch_dtype\":\"bfloat16\"})\n",
    "    embeddings = _model.encode(text, batch_size=32, show_progress_bar=True)\n",
    "    embeddings = embeddings.tolist()\n",
    "    return embeddings\n",
    "    "
   ]
  },
  {
   "cell_type": "code",
   "execution_count": null,
   "metadata": {},
   "outputs": [],
   "source": [
    "embeddings = get_embeddings(data, \"Alibaba-NLP/gte-large-en-v1.5\")\n",
    "len(embeddings)"
   ]
  }
 ],
 "metadata": {
  "kernelspec": {
   "display_name": "rag",
   "language": "python",
   "name": "python3"
  },
  "language_info": {
   "name": "python",
   "version": "3.12.7"
  }
 },
 "nbformat": 4,
 "nbformat_minor": 2
}
