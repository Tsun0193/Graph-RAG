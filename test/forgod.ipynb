{
 "cells": [
  {
   "cell_type": "code",
   "execution_count": 1,
   "metadata": {},
   "outputs": [],
   "source": [
    "import os\n",
    "import logging\n",
    "import sys\n",
    "import nest_asyncio\n",
    "import json"
   ]
  },
  {
   "cell_type": "code",
   "execution_count": 2,
   "metadata": {
    "vscode": {
     "languageId": "powershell"
    }
   },
   "outputs": [
    {
     "name": "stdout",
     "output_type": "stream",
     "text": [
      "d:\\Project\\Graph-RAG\n"
     ]
    }
   ],
   "source": [
    "cd .."
   ]
  },
  {
   "cell_type": "code",
   "execution_count": 3,
   "metadata": {},
   "outputs": [
    {
     "name": "stderr",
     "output_type": "stream",
     "text": [
      "d:\\Administrator\\anaconda3\\envs\\rag\\Lib\\site-packages\\tqdm\\auto.py:21: TqdmWarning: IProgress not found. Please update jupyter and ipywidgets. See https://ipywidgets.readthedocs.io/en/stable/user_install.html\n",
      "  from .autonotebook import tqdm as notebook_tqdm\n"
     ]
    },
    {
     "name": "stdout",
     "output_type": "stream",
     "text": [
      "INFO:datasets:PyTorch version 2.5.1+cu118 available.\n"
     ]
    }
   ],
   "source": [
    "from dotenv import load_dotenv\n",
    "from llama_index.llms.openai import OpenAI\n",
    "from llama_index.core import (\n",
    "    Settings,\n",
    "    Document, get_response_synthesizer,\n",
    "    KnowledgeGraphIndex, PropertyGraphIndex,\n",
    "    StorageContext\n",
    ")\n",
    "from llama_index.core.node_parser import SentenceSplitter\n",
    "from llama_index.graph_stores.neo4j import Neo4jGraphStore\n",
    "\n",
    "\n",
    "from core.data.processing import process_data\n",
    "from embeddings.LocalEmbedding import LocalEmbedding\n",
    "from llm.TogetherLLM import TogetherLLM"
   ]
  },
  {
   "cell_type": "code",
   "execution_count": 4,
   "metadata": {},
   "outputs": [],
   "source": [
    "logging.basicConfig(stream=sys.stdout, level=logging.INFO)\n",
    "logging.getLogger(\"httpx\").setLevel(logging.WARNING)\n",
    "logging.getLogger(\"llama_index\").setLevel(logging.INFO)\n",
    "nest_asyncio.apply()"
   ]
  },
  {
   "cell_type": "code",
   "execution_count": 5,
   "metadata": {},
   "outputs": [],
   "source": [
    "data_path = \"core/data/annotations.jsonl\""
   ]
  },
  {
   "cell_type": "code",
   "execution_count": 6,
   "metadata": {},
   "outputs": [
    {
     "name": "stderr",
     "output_type": "stream",
     "text": [
      "Parsing nodes: 100%|██████████| 74669/74669 [00:16<00:00, 4502.95it/s]\n"
     ]
    },
    {
     "name": "stdout",
     "output_type": "stream",
     "text": [
      "Finish processing 77319 chunks\n"
     ]
    }
   ],
   "source": [
    "try:\n",
    "    chunks = process_data(data_path)\n",
    "except Exception as e:\n",
    "    print(f\"Error processing data: {e}\")\n",
    "    sys.exit(1)"
   ]
  },
  {
   "cell_type": "code",
   "execution_count": 7,
   "metadata": {},
   "outputs": [
    {
     "name": "stdout",
     "output_type": "stream",
     "text": [
      "10\n"
     ]
    }
   ],
   "source": [
    "chunks = chunks[0:10]\n",
    "print(len(chunks))"
   ]
  },
  {
   "cell_type": "code",
   "execution_count": 8,
   "metadata": {},
   "outputs": [
    {
     "name": "stdout",
     "output_type": "stream",
     "text": [
      "INFO:sentence_transformers.SentenceTransformer:Use pytorch device_name: cuda\n",
      "INFO:sentence_transformers.SentenceTransformer:Load pretrained SentenceTransformer: Alibaba-NLP/gte-large-en-v1.5\n",
      "Loaded model: Alibaba-NLP/gte-large-en-v1.5\n"
     ]
    }
   ],
   "source": [
    "embedder = LocalEmbedding()"
   ]
  },
  {
   "cell_type": "code",
   "execution_count": 9,
   "metadata": {},
   "outputs": [
    {
     "name": "stdout",
     "output_type": "stream",
     "text": [
      "Custom LLM initialized with model: meta-llama/Meta-Llama-3.1-8B-Instruct-Turbo-128K\n"
     ]
    }
   ],
   "source": [
    "llm = TogetherLLM()"
   ]
  },
  {
   "cell_type": "code",
   "execution_count": 10,
   "metadata": {},
   "outputs": [
    {
     "name": "stdout",
     "output_type": "stream",
     "text": [
      "INFO:neo4j.notifications:Received notification from DBMS server: {severity: INFORMATION} {code: Neo.ClientNotification.Schema.IndexOrConstraintAlreadyExists} {category: SCHEMA} {title: `CREATE CONSTRAINT IF NOT EXISTS FOR (e:Entity) REQUIRE (e.id) IS UNIQUE` has no effect.} {description: `CONSTRAINT constraint_1ed05907 FOR (e:Entity) REQUIRE (e.id) IS UNIQUE` already exists.} {position: None} for query: '\\n                CREATE CONSTRAINT IF NOT EXISTS FOR (n:Entity) REQUIRE n.id IS UNIQUE;\\n                '\n"
     ]
    }
   ],
   "source": [
    "graph_store = Neo4jGraphStore(\n",
    "    username=os.environ[\"NEO4J_USERNAME\"],\n",
    "    password=os.environ[\"NEO4J_PASSWORD\"],\n",
    "    url=os.environ[\"NEO4J_URI\"]\n",
    ")"
   ]
  },
  {
   "cell_type": "code",
   "execution_count": 11,
   "metadata": {},
   "outputs": [],
   "source": [
    "storage_context = StorageContext.from_defaults(graph_store=graph_store)"
   ]
  },
  {
   "cell_type": "code",
   "execution_count": 13,
   "metadata": {},
   "outputs": [
    {
     "name": "stderr",
     "output_type": "stream",
     "text": [
      "C:\\Users\\Administrator\\AppData\\Local\\Temp\\ipykernel_21052\\2928598168.py:1: DeprecationWarning: Call to deprecated class KnowledgeGraphIndex. (The KnowledgeGraphIndex class has been deprecated. Please use the new PropertyGraphIndex class instead. If a certain graph store integration is missing in the new class, please open an issue on the GitHub repository or contribute it!) -- Deprecated since version 0.10.53.\n",
      "  index = KnowledgeGraphIndex(\n",
      "Processing nodes:   0%|          | 0/10 [00:00<?, ?it/s]\n",
      "\u001b[A\n",
      "Batches: 100%|██████████| 1/1 [00:00<00:00,  4.07it/s]\n",
      "\n",
      "Batches: 100%|██████████| 1/1 [00:00<00:00, 71.43it/s]\n",
      "\n",
      "Batches: 100%|██████████| 1/1 [00:00<00:00, 76.92it/s]\n",
      "Generating embeddings: 100%|██████████| 3/3 [00:00<00:00, 10.35it/s]\n",
      "Processing nodes:  10%|█         | 1/10 [00:01<00:16,  1.84s/it]\n",
      "Batches: 100%|██████████| 1/1 [00:00<00:00, 49.88it/s]\n",
      "\n",
      "Batches: 100%|██████████| 1/1 [00:00<00:00, 83.11it/s]\n",
      "\n",
      "Batches: 100%|██████████| 1/1 [00:00<00:00, 62.48it/s]\n",
      "Generating embeddings: 100%|██████████| 3/3 [00:00<00:00, 49.09it/s]\n",
      "Processing nodes:  20%|██        | 2/10 [00:02<00:09,  1.22s/it]\n",
      "Batches: 100%|██████████| 1/1 [00:00<00:00, 65.67it/s]\n",
      "\n",
      "Batches: 100%|██████████| 1/1 [00:00<00:00, 66.29it/s]\n",
      "\n",
      "Batches: 100%|██████████| 1/1 [00:00<00:00, 67.02it/s]\n",
      "Generating embeddings: 100%|██████████| 3/3 [00:00<00:00, 50.37it/s]\n",
      "Processing nodes:  30%|███       | 3/10 [00:03<00:07,  1.07s/it]\n",
      "Batches: 100%|██████████| 1/1 [00:00<00:00, 87.01it/s]\n",
      "\n",
      "Batches: 100%|██████████| 1/1 [00:00<00:00, 73.84it/s]\n",
      "\n",
      "Batches: 100%|██████████| 1/1 [00:00<00:00, 78.16it/s]\n",
      "Generating embeddings: 100%|██████████| 3/3 [00:00<00:00, 55.72it/s]\n",
      "Processing nodes:  40%|████      | 4/10 [00:04<00:05,  1.03it/s]\n",
      "Batches: 100%|██████████| 1/1 [00:00<00:00, 12.03it/s]\n",
      "\n",
      "Batches: 100%|██████████| 1/1 [00:00<00:00, 83.71it/s]\n",
      "\n",
      "Batches: 100%|██████████| 1/1 [00:00<00:00, 58.82it/s]\n",
      "\n",
      "Batches: 100%|██████████| 1/1 [00:00<00:00, 76.93it/s]\n",
      "\n",
      "Batches: 100%|██████████| 1/1 [00:00<00:00, 83.33it/s]\n",
      "\n",
      "Batches: 100%|██████████| 1/1 [00:00<00:00, 71.43it/s]\n",
      "\n",
      "Batches: 100%|██████████| 1/1 [00:00<00:00, 71.43it/s]\n",
      "\n",
      "Batches: 100%|██████████| 1/1 [00:00<00:00, 76.92it/s]\n",
      "\n",
      "Batches: 100%|██████████| 1/1 [00:00<00:00, 71.30it/s]\n",
      "\n",
      "Batches: 100%|██████████| 1/1 [00:00<00:00, 90.91it/s]\n",
      "\n",
      "Batches: 100%|██████████| 1/1 [00:00<00:00, 71.44it/s]\n",
      "\n",
      "Batches: 100%|██████████| 1/1 [00:00<00:00, 76.93it/s]\n",
      "\n",
      "Batches: 100%|██████████| 1/1 [00:00<00:00, 71.43it/s]\n",
      "\n",
      "Batches: 100%|██████████| 1/1 [00:00<00:00, 57.14it/s]\n",
      "\n",
      "Batches: 100%|██████████| 1/1 [00:00<00:00, 69.03it/s]\n",
      "\n",
      "Batches: 100%|██████████| 1/1 [00:00<00:00, 37.23it/s]\n",
      "Generating embeddings: 100%|██████████| 16/16 [00:00<00:00, 41.44it/s]\n",
      "Processing nodes:  50%|█████     | 5/10 [00:08<00:10,  2.10s/it]\n",
      "Batches: 100%|██████████| 1/1 [00:00<00:00, 71.43it/s]\n",
      "\n",
      "Batches: 100%|██████████| 1/1 [00:00<00:00, 62.50it/s]\n",
      "\n",
      "Batches: 100%|██████████| 1/1 [00:00<00:00, 76.92it/s]\n",
      "Generating embeddings: 100%|██████████| 3/3 [00:00<00:00, 51.72it/s]\n",
      "Processing nodes:  60%|██████    | 6/10 [00:09<00:06,  1.66s/it]\n",
      "Batches: 100%|██████████| 1/1 [00:00<00:00, 62.01it/s]\n",
      "\n",
      "Batches: 100%|██████████| 1/1 [00:00<00:00, 59.37it/s]\n",
      "\n",
      "Batches: 100%|██████████| 1/1 [00:00<00:00, 74.46it/s]\n",
      "Generating embeddings: 100%|██████████| 3/3 [00:00<00:00, 49.14it/s]\n",
      "Processing nodes:  70%|███████   | 7/10 [00:10<00:04,  1.55s/it]\n",
      "Batches: 100%|██████████| 1/1 [00:00<00:00, 62.53it/s]\n",
      "\n",
      "Batches: 100%|██████████| 1/1 [00:00<00:00, 52.43it/s]\n",
      "\n",
      "Batches: 100%|██████████| 1/1 [00:00<00:00, 53.80it/s]\n",
      "Generating embeddings: 100%|██████████| 3/3 [00:00<00:00, 43.85it/s]\n",
      "Processing nodes:  80%|████████  | 8/10 [00:11<00:02,  1.33s/it]\n",
      "Batches: 100%|██████████| 1/1 [00:00<00:00, 12.24it/s]\n",
      "\n",
      "Batches: 100%|██████████| 1/1 [00:00<00:00, 11.49it/s]\n",
      "\n",
      "Batches: 100%|██████████| 1/1 [00:00<00:00, 12.64it/s]\n",
      "\n",
      "Batches: 100%|██████████| 1/1 [00:00<00:00, 25.64it/s]\n",
      "Generating embeddings: 100%|██████████| 4/4 [00:00<00:00, 13.06it/s]\n",
      "Processing nodes:  90%|█████████ | 9/10 [00:12<00:01,  1.31s/it]\n",
      "Batches: 100%|██████████| 1/1 [00:00<00:00, 76.91it/s]\n",
      "\n",
      "Batches: 100%|██████████| 1/1 [00:00<00:00, 66.62it/s]\n",
      "\n",
      "Batches: 100%|██████████| 1/1 [00:00<00:00, 71.26it/s]\n",
      "Generating embeddings: 100%|██████████| 3/3 [00:00<00:00, 55.48it/s]\n",
      "Processing nodes: 100%|██████████| 10/10 [00:13<00:00,  1.34s/it]\n"
     ]
    }
   ],
   "source": [
    "index = KnowledgeGraphIndex(\n",
    "    nodes=chunks,\n",
    "    llm=llm,\n",
    "    embed_model=embedder,\n",
    "    storage_context=storage_context,\n",
    "    include_embeddings=True,\n",
    "    max_triplets_per_chunk=3,\n",
    "    show_progress=True\n",
    ")"
   ]
  },
  {
   "cell_type": "code",
   "execution_count": 15,
   "metadata": {},
   "outputs": [],
   "source": [
    "query_engine = index.as_query_engine(\n",
    "    llm = llm,\n",
    "    include_text=False, response_mode=\"tree_summarize\"\n",
    ")"
   ]
  },
  {
   "cell_type": "code",
   "execution_count": 16,
   "metadata": {},
   "outputs": [
    {
     "name": "stderr",
     "output_type": "stream",
     "text": [
      "Batches: 100%|██████████| 1/1 [00:00<00:00,  4.87it/s]\n"
     ]
    }
   ],
   "source": [
    "response = query_engine.query(\"Tell me more about Interleaf\")"
   ]
  },
  {
   "cell_type": "code",
   "execution_count": 18,
   "metadata": {},
   "outputs": [
    {
     "data": {
      "text/plain": [
       "Response(response='Unfortunately, there is no information provided about \"Interleaf\" in the given context. The provided knowledge sequence only contains two examples:\\n\\n1. (\\'Cats\\', \\'Understand\\', \\'Something\\')\\n2. (\\'Way\\', \\'Works for\\', \\'Us\\')\\n\\nThere is no mention of \"Interleaf\" in the kg_schema or the knowledge sequence. Therefore, I cannot provide any information about \"Interleaf\" based on the given context. If you have more information or context about \"Interleaf\", I would be happy to try and help you further.', source_nodes=[NodeWithScore(node=TextNode(id_='3d4a9967-6172-4f7e-b251-32ab0936a52b', embedding=None, metadata={'kg_rel_texts': [\"('Cats', 'Understand', 'Something')\", \"('Way', 'Works for', 'Us')\"], 'kg_rel_map': {}, 'kg_schema': {'schema': \"Node properties are the following:\\nEntity {id: STRING}\\nRelationship properties are the following:\\n\\nThe relationships are the following:\\n(:Entity)-[:WET]->(:Entity),(:Entity)-[:FLICK]->(:Entity),(:Entity)-[:USE]->(:Entity),(:Entity)-[:STOP]->(:Entity),(:Entity)-[:DOESN'T_HURT]->(:Entity),(:Entity)-[:MADE_POPULAR]->(:Entity),(:Entity)-[:WROTE]->(:Entity),(:Entity)-[:LISTS]->(:Entity),(:Entity)-[:USED]->(:Entity),(:Entity)-[:FIRED]->(:Entity),(:Entity)-[:PUT]->(:Entity),(:Entity)-[:IS]->(:Entity),(:Entity)-[:IS_ON]->(:Entity),(:Entity)-[:JUMPS_OFF]->(:Entity),(:Entity)-[:STOP_DOING]->(:Entity),(:Entity)-[:CAN_BE_DISCIPLINED]->(:Entity),(:Entity)-[:ESTABLISH_DOMINANCE]->(:Entity),(:Entity)-[:UNDERSTAND]->(:Entity),(:Entity)-[:RESPONDS_TO]->(:Entity),(:Entity)-[:ASSOCIATES]->(:Entity),(:Entity)-[:IS_FIVE_YEARS_OLD]->(:Entity),(:Entity)-[:DOES_SOMETHING]->(:Entity),(:Entity)-[:IS_STRICT]->(:Entity),(:Entity)-[:RECOGNIZES]->(:Entity),(:Entity)-[:KNOWS]->(:Entity),(:Entity)-[:IS_HEALTHY]->(:Entity),(:Entity)-[:GETS]->(:Entity),(:Entity)-[:IS_USED_FOR]->(:Entity),(:Entity)-[:IS_PORTIONED_OUT]->(:Entity),(:Entity)-[:WORKS_FOR]->(:Entity),(:Entity)-[:ARE_REWARDS]->(:Entity),(:Entity)-[:IS_HOPED]->(:Entity),(:Entity)-[:IS_NEEDED]->(:Entity),(:Entity)-[:DISCOURAGES]->(:Entity),(:Entity)-[:CAN_BE]->(:Entity),(:Entity)-[:HAVE]->(:Entity),(:Entity)-[:CLIMB]->(:Entity),(:Entity)-[:ARE]->(:Entity),(:Entity)-[:ON_COUNTER]->(:Entity)\"}}, excluded_embed_metadata_keys=['kg_rel_map', 'kg_rel_texts'], excluded_llm_metadata_keys=['kg_rel_map', 'kg_rel_texts'], relationships={}, metadata_template='{key}: {value}', metadata_separator='\\n', text=\"The following are knowledge sequence in max depth 2 in the form of directed graph like:\\n`subject -[predicate]->, object, <-[predicate_next_hop]-, object_next_hop ...`\\n('Cats', 'Understand', 'Something')\\n('Way', 'Works for', 'Us')\", mimetype='text/plain', start_char_idx=None, end_char_idx=None, metadata_seperator='\\n', text_template='{metadata_str}\\n\\n{content}'), score=1000.0)], metadata={'3d4a9967-6172-4f7e-b251-32ab0936a52b': {'kg_rel_texts': [\"('Cats', 'Understand', 'Something')\", \"('Way', 'Works for', 'Us')\"], 'kg_rel_map': {}, 'kg_schema': {'schema': \"Node properties are the following:\\nEntity {id: STRING}\\nRelationship properties are the following:\\n\\nThe relationships are the following:\\n(:Entity)-[:WET]->(:Entity),(:Entity)-[:FLICK]->(:Entity),(:Entity)-[:USE]->(:Entity),(:Entity)-[:STOP]->(:Entity),(:Entity)-[:DOESN'T_HURT]->(:Entity),(:Entity)-[:MADE_POPULAR]->(:Entity),(:Entity)-[:WROTE]->(:Entity),(:Entity)-[:LISTS]->(:Entity),(:Entity)-[:USED]->(:Entity),(:Entity)-[:FIRED]->(:Entity),(:Entity)-[:PUT]->(:Entity),(:Entity)-[:IS]->(:Entity),(:Entity)-[:IS_ON]->(:Entity),(:Entity)-[:JUMPS_OFF]->(:Entity),(:Entity)-[:STOP_DOING]->(:Entity),(:Entity)-[:CAN_BE_DISCIPLINED]->(:Entity),(:Entity)-[:ESTABLISH_DOMINANCE]->(:Entity),(:Entity)-[:UNDERSTAND]->(:Entity),(:Entity)-[:RESPONDS_TO]->(:Entity),(:Entity)-[:ASSOCIATES]->(:Entity),(:Entity)-[:IS_FIVE_YEARS_OLD]->(:Entity),(:Entity)-[:DOES_SOMETHING]->(:Entity),(:Entity)-[:IS_STRICT]->(:Entity),(:Entity)-[:RECOGNIZES]->(:Entity),(:Entity)-[:KNOWS]->(:Entity),(:Entity)-[:IS_HEALTHY]->(:Entity),(:Entity)-[:GETS]->(:Entity),(:Entity)-[:IS_USED_FOR]->(:Entity),(:Entity)-[:IS_PORTIONED_OUT]->(:Entity),(:Entity)-[:WORKS_FOR]->(:Entity),(:Entity)-[:ARE_REWARDS]->(:Entity),(:Entity)-[:IS_HOPED]->(:Entity),(:Entity)-[:IS_NEEDED]->(:Entity),(:Entity)-[:DISCOURAGES]->(:Entity),(:Entity)-[:CAN_BE]->(:Entity),(:Entity)-[:HAVE]->(:Entity),(:Entity)-[:CLIMB]->(:Entity),(:Entity)-[:ARE]->(:Entity),(:Entity)-[:ON_COUNTER]->(:Entity)\"}}})"
      ]
     },
     "execution_count": 18,
     "metadata": {},
     "output_type": "execute_result"
    }
   ],
   "source": [
    "response"
   ]
  },
  {
   "cell_type": "code",
   "execution_count": 17,
   "metadata": {},
   "outputs": [],
   "source": [
    "query_engine = index.as_query_engine(\n",
    "    llm = llm,\n",
    "    embed_model = embedder,\n",
    "    include_text=False,\n",
    "    response_mode=\"tree_summarize\",\n",
    "    embedding_mode=\"hybrid\",\n",
    "    similarity_top_k=5\n",
    ")"
   ]
  },
  {
   "cell_type": "code",
   "execution_count": null,
   "metadata": {},
   "outputs": [],
   "source": [
    "response = query_engine.query(\n",
    "    \"Effort\"\n",
    ")"
   ]
  },
  {
   "cell_type": "code",
   "execution_count": null,
   "metadata": {},
   "outputs": [],
   "source": [
    "response"
   ]
  },
  {
   "cell_type": "code",
   "execution_count": null,
   "metadata": {},
   "outputs": [],
   "source": [
    "nodes = response.source_nodes\n",
    "\n",
    "# Iterate through the nodes to access their embeddings and calculate the length\n",
    "for i, node in enumerate(nodes):\n",
    "    if node.node.embedding is not None:\n",
    "        embedding_length = len(node.node.embedding)\n",
    "        print(f\"Node {i + 1}: Embedding Length = {embedding_length}\")\n",
    "    else:\n",
    "        print(f\"Node {i + 1}: Embedding is None\")"
   ]
  }
 ],
 "metadata": {
  "kernelspec": {
   "display_name": "rag",
   "language": "python",
   "name": "python3"
  },
  "language_info": {
   "codemirror_mode": {
    "name": "ipython",
    "version": 3
   },
   "file_extension": ".py",
   "mimetype": "text/x-python",
   "name": "python",
   "nbconvert_exporter": "python",
   "pygments_lexer": "ipython3",
   "version": "3.12.7"
  }
 },
 "nbformat": 4,
 "nbformat_minor": 2
}
